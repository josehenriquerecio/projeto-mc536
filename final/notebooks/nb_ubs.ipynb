{
 "cells": [
  {
   "cell_type": "code",
   "execution_count": 1,
   "metadata": {},
   "outputs": [],
   "source": [
    "import pandas as pd\n",
    "import numpy as np\n",
    "from datetime import datetime\n",
    "\n",
    "df = pd.read_csv('../data/external/estabelecimentos_saude.csv', sep=';')"
   ]
  },
  {
   "cell_type": "code",
   "execution_count": 2,
   "metadata": {},
   "outputs": [],
   "source": [
    "df['Municipio'] = df['IBGE'].astype(str) \n",
    "df[\"Municipio\"].replace({'280010':'Amparo de São Francisco',\"280030\":\"Aracaju\",'280020':'Aquidabã','280040':'Arauá',\n",
    "'280050':'Areia Branca','280060':'Barra dos Coqueiros','280067':'Boquim','280070':'Brejo Grande','280100':'Campo do Brito','280110':'Canhoba','280120':'Canindé de São Francisco','280130':'Capela','280140':'Carira','280150':'Carmópolis','280160':'Cedro de São João','280170':'Cristinápolis','280190':'Cumbe','280200':'Divina Pastora','280210':'Estância','280220':'Feira Nova','280230':'Frei Paulo','280240':'Gararu','280250':'General Maynard','280260':'Graccho Cardoso','280270':'Ilha das Flores','280280':'Indiaroba','280290':'Itabaiana','280300':'Itabaianinha','280310':'Itabi','280320':\"Itaporanga d'Ajuda\",'280330':\"Japaratuba\",'280340':'Japoatã','280350':'Lagarto',\n",
    "'280360':'Laranjeiras','280370':'Macambira','280380':'Malhada dos Bois','280390':'Malhador','280400':'Maruim','280410':'Moita Bonita','280420':'Monte Alegre de Sergipe','280430':'Muribeca','280440':'Neópolis','280445':'Nossa Senhora Aparecida','280450':'Nossa Senhora da Glória','280460':'Nossa Senhora das Dores','280470':'Nossa Senhora de Lourdes','280480':'Nossa Senhora do Socorro','280490':'Pacatuba','280500':'Pedra Mole','280510':'Pedrinhas','280520':'Pinhão',\n",
    "'280530':'Pirambu','280540':'Poço Redondo','280550':'Poço Verde','280560':'Porto da Folha','280570':'Propriá','280580':'Riachão do Dantas','280590':'Riachuelo','280600':'Ribeirópolis','280610':'Rosário do Catete','280620':'Salgado','280630':'Santa Luzia do Itanhny','280650':'Santa Rosa de Lima','280640':'Santana do São Francisco','280660':'Santo Amaro das Brotas','280670':'São Cristóvão','280680':'São Domingos','280690':'São Francisco','280700':'São Miguel do Aleixo','280710':'Simão Dias','280720':'Siriri','280730':'Telha','280740':'Tobias Barreto','280750':'Tomar do Geru','280760':'Umbaúba'}, inplace=True)"
   ]
  },
  {
   "cell_type": "code",
   "execution_count": 3,
   "metadata": {},
   "outputs": [],
   "source": [
    "temp = df[df[\"UF\"] == 28]"
   ]
  },
  {
   "cell_type": "code",
   "execution_count": 4,
   "metadata": {},
   "outputs": [],
   "source": [
    "final = temp[['Municipio','CNES','LOGRADOURO','NOME']]"
   ]
  },
  {
   "cell_type": "code",
   "execution_count": 5,
   "metadata": {},
   "outputs": [
    {
     "data": {
      "text/html": [
       "<div>\n",
       "<style scoped>\n",
       "    .dataframe tbody tr th:only-of-type {\n",
       "        vertical-align: middle;\n",
       "    }\n",
       "\n",
       "    .dataframe tbody tr th {\n",
       "        vertical-align: top;\n",
       "    }\n",
       "\n",
       "    .dataframe thead th {\n",
       "        text-align: right;\n",
       "    }\n",
       "</style>\n",
       "<table border=\"1\" class=\"dataframe\">\n",
       "  <thead>\n",
       "    <tr style=\"text-align: right;\">\n",
       "      <th></th>\n",
       "      <th>Municipio</th>\n",
       "      <th>CNES</th>\n",
       "      <th>LOGRADOURO</th>\n",
       "      <th>NOME</th>\n",
       "    </tr>\n",
       "  </thead>\n",
       "  <tbody>\n",
       "    <tr>\n",
       "      <th>57</th>\n",
       "      <td>Aracaju</td>\n",
       "      <td>2216</td>\n",
       "      <td>AV AZUL</td>\n",
       "      <td>US OSVALDO LEITE TERRA DURA</td>\n",
       "    </tr>\n",
       "    <tr>\n",
       "      <th>58</th>\n",
       "      <td>Aracaju</td>\n",
       "      <td>2259</td>\n",
       "      <td>RUA MARUIM</td>\n",
       "      <td>US MARIA DO CEU SANTOS PEREIRA</td>\n",
       "    </tr>\n",
       "    <tr>\n",
       "      <th>60</th>\n",
       "      <td>Aracaju</td>\n",
       "      <td>2305</td>\n",
       "      <td>R HAITI</td>\n",
       "      <td>US ADEL NUNES BAIRRO AMERICA</td>\n",
       "    </tr>\n",
       "    <tr>\n",
       "      <th>61</th>\n",
       "      <td>Aracaju</td>\n",
       "      <td>2364</td>\n",
       "      <td>RUA SAO JOAO</td>\n",
       "      <td>US CANDIDA ALVES SANTO ANTONIO</td>\n",
       "    </tr>\n",
       "    <tr>\n",
       "      <th>62</th>\n",
       "      <td>Aracaju</td>\n",
       "      <td>2380</td>\n",
       "      <td>RUA RENATO FONSECA OLIVEIRA</td>\n",
       "      <td>US HUGO GURGEL COROA DO MEIO</td>\n",
       "    </tr>\n",
       "    <tr>\n",
       "      <th>...</th>\n",
       "      <td>...</td>\n",
       "      <td>...</td>\n",
       "      <td>...</td>\n",
       "      <td>...</td>\n",
       "    </tr>\n",
       "    <tr>\n",
       "      <th>41036</th>\n",
       "      <td>Estância</td>\n",
       "      <td>6200346</td>\n",
       "      <td>RUA JOAO LAUREANO</td>\n",
       "      <td>USF DRA ANNE DE GUSMAO APOLONIO MENDES COSTA</td>\n",
       "    </tr>\n",
       "    <tr>\n",
       "      <th>41111</th>\n",
       "      <td>Indiaroba</td>\n",
       "      <td>9304568</td>\n",
       "      <td>LARGO RODOVIA EDUARDO MAGALHAES</td>\n",
       "      <td>UNIDADE BASICA DE SAUDE MAE M ALMERINDA DA CON...</td>\n",
       "    </tr>\n",
       "    <tr>\n",
       "      <th>41114</th>\n",
       "      <td>Umbaúba</td>\n",
       "      <td>9421475</td>\n",
       "      <td>POVOADO QUEIMADA GRANDE</td>\n",
       "      <td>CLINICA SAUDE DA FAMILIA JOSE CARDOSO DOS SANTOS</td>\n",
       "    </tr>\n",
       "    <tr>\n",
       "      <th>41122</th>\n",
       "      <td>Umbaúba</td>\n",
       "      <td>9865845</td>\n",
       "      <td>RUA EDMUNDO CORTES</td>\n",
       "      <td>CLINICA SAUDE DA FAMILIA EDILENE AZEVEDO SANTO...</td>\n",
       "    </tr>\n",
       "    <tr>\n",
       "      <th>41641</th>\n",
       "      <td>Tomar do Geru</td>\n",
       "      <td>9706534</td>\n",
       "      <td>RUA DA ESTACAO</td>\n",
       "      <td>UNIDADE MISTA GOV JOAO ALVES FILHO</td>\n",
       "    </tr>\n",
       "  </tbody>\n",
       "</table>\n",
       "<p>514 rows × 4 columns</p>\n",
       "</div>"
      ],
      "text/plain": [
       "           Municipio     CNES                       LOGRADOURO  \\\n",
       "57           Aracaju     2216                          AV AZUL   \n",
       "58           Aracaju     2259                       RUA MARUIM   \n",
       "60           Aracaju     2305                          R HAITI   \n",
       "61           Aracaju     2364                     RUA SAO JOAO   \n",
       "62           Aracaju     2380      RUA RENATO FONSECA OLIVEIRA   \n",
       "...              ...      ...                              ...   \n",
       "41036       Estância  6200346                RUA JOAO LAUREANO   \n",
       "41111      Indiaroba  9304568  LARGO RODOVIA EDUARDO MAGALHAES   \n",
       "41114        Umbaúba  9421475          POVOADO QUEIMADA GRANDE   \n",
       "41122        Umbaúba  9865845               RUA EDMUNDO CORTES   \n",
       "41641  Tomar do Geru  9706534                   RUA DA ESTACAO   \n",
       "\n",
       "                                                    NOME  \n",
       "57                           US OSVALDO LEITE TERRA DURA  \n",
       "58                        US MARIA DO CEU SANTOS PEREIRA  \n",
       "60                          US ADEL NUNES BAIRRO AMERICA  \n",
       "61                        US CANDIDA ALVES SANTO ANTONIO  \n",
       "62                          US HUGO GURGEL COROA DO MEIO  \n",
       "...                                                  ...  \n",
       "41036       USF DRA ANNE DE GUSMAO APOLONIO MENDES COSTA  \n",
       "41111  UNIDADE BASICA DE SAUDE MAE M ALMERINDA DA CON...  \n",
       "41114   CLINICA SAUDE DA FAMILIA JOSE CARDOSO DOS SANTOS  \n",
       "41122  CLINICA SAUDE DA FAMILIA EDILENE AZEVEDO SANTO...  \n",
       "41641                 UNIDADE MISTA GOV JOAO ALVES FILHO  \n",
       "\n",
       "[514 rows x 4 columns]"
      ]
     },
     "execution_count": 5,
     "metadata": {},
     "output_type": "execute_result"
    }
   ],
   "source": [
    "final"
   ]
  },
  {
   "cell_type": "code",
   "execution_count": 7,
   "metadata": {},
   "outputs": [
    {
     "name": "stderr",
     "output_type": "stream",
     "text": [
      "/tmp/ipykernel_32795/3599772035.py:3: SettingWithCopyWarning: \n",
      "A value is trying to be set on a copy of a slice from a DataFrame.\n",
      "Try using .loc[row_indexer,col_indexer] = value instead\n",
      "\n",
      "See the caveats in the documentation: https://pandas.pydata.org/pandas-docs/stable/user_guide/indexing.html#returning-a-view-versus-a-copy\n",
      "  final['Municipio'] = final['Municipio'].apply(unidecode)\n",
      "/tmp/ipykernel_32795/3599772035.py:4: SettingWithCopyWarning: \n",
      "A value is trying to be set on a copy of a slice from a DataFrame.\n",
      "Try using .loc[row_indexer,col_indexer] = value instead\n",
      "\n",
      "See the caveats in the documentation: https://pandas.pydata.org/pandas-docs/stable/user_guide/indexing.html#returning-a-view-versus-a-copy\n",
      "  final['Municipio'] = final['Municipio'].str.upper()\n"
     ]
    }
   ],
   "source": [
    "from unidecode import unidecode\n",
    "\n",
    "final['Municipio'] = final['Municipio'].apply(unidecode)\n",
    "final['Municipio'] = final['Municipio'].str.upper()\n",
    "final['Municipio'] = final['Municipio'].apply(lambda x: 'GRACHO CARDOSO' if x == 'GRACCHO CARDOSO' else x)"
   ]
  },
  {
   "cell_type": "code",
   "execution_count": 16,
   "metadata": {},
   "outputs": [],
   "source": [
    "final.to_csv('../data/processed/ubs-se.csv',index=False)"
   ]
  }
 ],
 "metadata": {
  "interpreter": {
   "hash": "577de10d38808fdb335a1f9580280020918fb546b8afc4a4c1c39acc7f2529b0"
  },
  "kernelspec": {
   "display_name": "Python 3.9.9 64-bit (windows store)",
   "language": "python",
   "name": "python3"
  },
  "language_info": {
   "codemirror_mode": {
    "name": "ipython",
    "version": 3
   },
   "file_extension": ".py",
   "mimetype": "text/x-python",
   "name": "python",
   "nbconvert_exporter": "python",
   "pygments_lexer": "ipython3",
   "version": "3.8.10"
  },
  "orig_nbformat": 4
 },
 "nbformat": 4,
 "nbformat_minor": 2
}
