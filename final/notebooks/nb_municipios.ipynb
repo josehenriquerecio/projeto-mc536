{
 "cells": [
  {
   "cell_type": "code",
   "execution_count": 2,
   "metadata": {},
   "outputs": [],
   "source": [
    "import pandas as pd\n",
    "import numpy as np\n",
    "\n",
    "\n",
    "df = pd.read_csv('../data/interim/populacao_faixa_etaria.csv',encoding='latin1')\n",
    "df2 = pd.read_csv('../data/interim/municipio_intermed.csv',sep=';',encoding='latin1')\n",
    "\n"
   ]
  },
  {
   "cell_type": "code",
   "execution_count": 3,
   "metadata": {},
   "outputs": [],
   "source": [
    "result = df2.join(df[['0 a 19', '20 a 39', '40 a 59', '60+']])"
   ]
  },
  {
   "cell_type": "code",
   "execution_count": 5,
   "metadata": {},
   "outputs": [],
   "source": [
    "from unidecode import unidecode\n",
    "\n",
    "result['Município'] = result['Município'].apply(unidecode)\n",
    "result['Município'] = result['Município'].str.upper()"
   ]
  },
  {
   "cell_type": "code",
   "execution_count": 18,
   "metadata": {},
   "outputs": [],
   "source": [
    "result['IDHM'] = result['IDHM'].str.replace(',', '.')\n",
    "result['IDHM'] = result['IDHM'].astype(float)\n",
    "result['Escolarização'] = result['Escolarização'].str.replace(',', '.')\n",
    "result['Escolarização'] = result['Escolarização'].astype(float)"
   ]
  },
  {
   "cell_type": "code",
   "execution_count": 21,
   "metadata": {},
   "outputs": [],
   "source": [
    "result = result.rename(columns={ 'Município': 'municipio', 'População': 'populacao', 'Escolarização': 'escolarizacao', 'Ruralidade_percentual': 'ruralidade', 'IDHM': 'idhm' }, inplace=False)"
   ]
  },
  {
   "cell_type": "code",
   "execution_count": 23,
   "metadata": {},
   "outputs": [],
   "source": [
    "result.to_csv('../data/processed/municipios_final.csv',index=False)"
   ]
  }
 ],
 "metadata": {
  "interpreter": {
   "hash": "577de10d38808fdb335a1f9580280020918fb546b8afc4a4c1c39acc7f2529b0"
  },
  "kernelspec": {
   "display_name": "Python 3.9.9 64-bit (windows store)",
   "language": "python",
   "name": "python3"
  },
  "language_info": {
   "codemirror_mode": {
    "name": "ipython",
    "version": 3
   },
   "file_extension": ".py",
   "mimetype": "text/x-python",
   "name": "python",
   "nbconvert_exporter": "python",
   "pygments_lexer": "ipython3",
   "version": "3.8.10"
  },
  "orig_nbformat": 4
 },
 "nbformat": 4,
 "nbformat_minor": 2
}
