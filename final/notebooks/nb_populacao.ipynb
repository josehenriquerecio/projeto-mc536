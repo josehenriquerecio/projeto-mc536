{
 "cells": [
  {
   "cell_type": "code",
   "execution_count": 63,
   "metadata": {},
   "outputs": [],
   "source": [
    "import pandas as pd\n",
    "import numpy as np\n",
    "\n",
    "\n",
    "df = pd.read_csv('..\\data\\external\\populacao-se.csv', encoding='latin1')"
   ]
  },
  {
   "cell_type": "code",
   "execution_count": 64,
   "metadata": {},
   "outputs": [
    {
     "data": {
      "text/plain": [
       "Index(['Município', 'Menor 1 ano', '1 a 4 anos', '5 a 9 anos', '10 a 14 anos',\n",
       "       '15 a 19 anos', '20 a 29 anos', '30 a 39 anos', '40 a 49 anos',\n",
       "       '50 a 59 anos', '60 a 69 anos', '70 a 79 anos', '80 anos e mais',\n",
       "       'Total'],\n",
       "      dtype='object')"
      ]
     },
     "execution_count": 64,
     "metadata": {},
     "output_type": "execute_result"
    }
   ],
   "source": [
    "df.columns"
   ]
  },
  {
   "cell_type": "code",
   "execution_count": 65,
   "metadata": {},
   "outputs": [],
   "source": [
    "df['0 a 19'] = df['Menor 1 ano'] + df['1 a 4 anos'] + df['5 a 9 anos'] + df['10 a 14 anos'] + df['15 a 19 anos']\n",
    "df['20 a 39'] = df['20 a 29 anos'] + df['30 a 39 anos'] \n",
    "df['40 a 59'] = df['40 a 49 anos'] + df['50 a 59 anos']\n",
    "df['60+'] = df['60 a 69 anos'] + df['70 a 79 anos'] + df['80 anos e mais']"
   ]
  },
  {
   "cell_type": "code",
   "execution_count": 66,
   "metadata": {},
   "outputs": [
    {
     "name": "stderr",
     "output_type": "stream",
     "text": [
      "C:\\Users\\JOSHEN~1\\AppData\\Local\\Temp/ipykernel_10112/2360469584.py:1: FutureWarning: In a future version of pandas all arguments of DataFrame.drop except for the argument 'labels' will be keyword-only\n",
      "  temp = df.drop(['Menor 1 ano','1 a 4 anos', '5 a 9 anos', '10 a 14 anos',\n"
     ]
    }
   ],
   "source": [
    "temp = df.drop(['Menor 1 ano','1 a 4 anos', '5 a 9 anos', '10 a 14 anos',\n",
    "       '15 a 19 anos', '20 a 29 anos', '30 a 39 anos', '40 a 49 anos',\n",
    "       '50 a 59 anos', '60 a 69 anos', '70 a 79 anos', '80 anos e mais',\n",
    "       'Total'],1)"
   ]
  },
  {
   "cell_type": "code",
   "execution_count": 67,
   "metadata": {},
   "outputs": [
    {
     "name": "stderr",
     "output_type": "stream",
     "text": [
      "C:\\Users\\JOSHEN~1\\AppData\\Local\\Temp/ipykernel_10112/4083749206.py:1: FutureWarning: The default value of regex will change from True to False in a future version.\n",
      "  temp['Município'] = temp['Município'].str.replace('\\d+', '')\n"
     ]
    }
   ],
   "source": [
    "temp['Município'] = temp['Município'].str.replace('\\d+', '')"
   ]
  },
  {
   "cell_type": "code",
   "execution_count": 68,
   "metadata": {},
   "outputs": [
    {
     "data": {
      "text/html": [
       "<div>\n",
       "<style scoped>\n",
       "    .dataframe tbody tr th:only-of-type {\n",
       "        vertical-align: middle;\n",
       "    }\n",
       "\n",
       "    .dataframe tbody tr th {\n",
       "        vertical-align: top;\n",
       "    }\n",
       "\n",
       "    .dataframe thead th {\n",
       "        text-align: right;\n",
       "    }\n",
       "</style>\n",
       "<table border=\"1\" class=\"dataframe\">\n",
       "  <thead>\n",
       "    <tr style=\"text-align: right;\">\n",
       "      <th></th>\n",
       "      <th>Município</th>\n",
       "      <th>0 a 19</th>\n",
       "      <th>20 a 39</th>\n",
       "      <th>40 a 59</th>\n",
       "      <th>60+</th>\n",
       "    </tr>\n",
       "  </thead>\n",
       "  <tbody>\n",
       "    <tr>\n",
       "      <th>0</th>\n",
       "      <td>Amparo de São Francisco</td>\n",
       "      <td>875</td>\n",
       "      <td>742</td>\n",
       "      <td>422</td>\n",
       "      <td>251</td>\n",
       "    </tr>\n",
       "    <tr>\n",
       "      <th>1</th>\n",
       "      <td>Aquidabã</td>\n",
       "      <td>7661</td>\n",
       "      <td>6271</td>\n",
       "      <td>3970</td>\n",
       "      <td>2413</td>\n",
       "    </tr>\n",
       "    <tr>\n",
       "      <th>2</th>\n",
       "      <td>Aracaju</td>\n",
       "      <td>182074</td>\n",
       "      <td>220435</td>\n",
       "      <td>131801</td>\n",
       "      <td>53391</td>\n",
       "    </tr>\n",
       "    <tr>\n",
       "      <th>3</th>\n",
       "      <td>Arauá</td>\n",
       "      <td>3810</td>\n",
       "      <td>2998</td>\n",
       "      <td>1814</td>\n",
       "      <td>873</td>\n",
       "    </tr>\n",
       "    <tr>\n",
       "      <th>4</th>\n",
       "      <td>Areia Branca</td>\n",
       "      <td>6815</td>\n",
       "      <td>5820</td>\n",
       "      <td>3066</td>\n",
       "      <td>1463</td>\n",
       "    </tr>\n",
       "    <tr>\n",
       "      <th>...</th>\n",
       "      <td>...</td>\n",
       "      <td>...</td>\n",
       "      <td>...</td>\n",
       "      <td>...</td>\n",
       "      <td>...</td>\n",
       "    </tr>\n",
       "    <tr>\n",
       "      <th>70</th>\n",
       "      <td>Siriri</td>\n",
       "      <td>3318</td>\n",
       "      <td>2585</td>\n",
       "      <td>1470</td>\n",
       "      <td>796</td>\n",
       "    </tr>\n",
       "    <tr>\n",
       "      <th>71</th>\n",
       "      <td>Telha</td>\n",
       "      <td>1158</td>\n",
       "      <td>1013</td>\n",
       "      <td>570</td>\n",
       "      <td>265</td>\n",
       "    </tr>\n",
       "    <tr>\n",
       "      <th>72</th>\n",
       "      <td>Tobias Barreto</td>\n",
       "      <td>18280</td>\n",
       "      <td>15445</td>\n",
       "      <td>9676</td>\n",
       "      <td>5375</td>\n",
       "    </tr>\n",
       "    <tr>\n",
       "      <th>73</th>\n",
       "      <td>Tomar do Geru</td>\n",
       "      <td>5275</td>\n",
       "      <td>4137</td>\n",
       "      <td>2276</td>\n",
       "      <td>1170</td>\n",
       "    </tr>\n",
       "    <tr>\n",
       "      <th>74</th>\n",
       "      <td>Umbaúba</td>\n",
       "      <td>9441</td>\n",
       "      <td>7712</td>\n",
       "      <td>4236</td>\n",
       "      <td>1834</td>\n",
       "    </tr>\n",
       "  </tbody>\n",
       "</table>\n",
       "<p>75 rows × 5 columns</p>\n",
       "</div>"
      ],
      "text/plain": [
       "                   Município  0 a 19  20 a 39  40 a 59    60+\n",
       "0    Amparo de São Francisco     875      742      422    251\n",
       "1                   Aquidabã    7661     6271     3970   2413\n",
       "2                    Aracaju  182074   220435   131801  53391\n",
       "3                      Arauá    3810     2998     1814    873\n",
       "4               Areia Branca    6815     5820     3066   1463\n",
       "..                       ...     ...      ...      ...    ...\n",
       "70                    Siriri    3318     2585     1470    796\n",
       "71                     Telha    1158     1013      570    265\n",
       "72            Tobias Barreto   18280    15445     9676   5375\n",
       "73             Tomar do Geru    5275     4137     2276   1170\n",
       "74                   Umbaúba    9441     7712     4236   1834\n",
       "\n",
       "[75 rows x 5 columns]"
      ]
     },
     "execution_count": 68,
     "metadata": {},
     "output_type": "execute_result"
    }
   ],
   "source": [
    "temp"
   ]
  },
  {
   "cell_type": "code",
   "execution_count": 69,
   "metadata": {},
   "outputs": [],
   "source": [
    "temp.to_csv('populacao_faixa_etaria.csv',index=False,encoding='latin1')"
   ]
  }
 ],
 "metadata": {
  "language_info": {
   "name": "python"
  },
  "orig_nbformat": 4
 },
 "nbformat": 4,
 "nbformat_minor": 2
}
