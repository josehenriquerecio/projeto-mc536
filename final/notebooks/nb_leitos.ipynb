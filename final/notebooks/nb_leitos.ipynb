{
 "cells": [
  {
   "cell_type": "code",
   "execution_count": 6,
   "id": "1c70e22b",
   "metadata": {},
   "outputs": [
    {
     "name": "stderr",
     "output_type": "stream",
     "text": [
      "C:\\Users\\José Henrique\\AppData\\Local\\Packages\\PythonSoftwareFoundation.Python.3.9_qbz5n2kfra8p0\\LocalCache\\local-packages\\Python39\\site-packages\\IPython\\core\\interactiveshell.py:3441: DtypeWarning: Columns (2) have mixed types.Specify dtype option on import or set low_memory=False.\n",
      "  exec(code_obj, self.user_global_ns, self.user_ns)\n"
     ]
    }
   ],
   "source": [
    "import pandas as pd\n",
    "import numpy as np\n",
    "from datetime import datetime\n",
    "\n",
    "df = pd.read_csv('../data/external/leitos.csv', sep=',', parse_dates = ['dataNotificacao'])"
   ]
  },
  {
   "cell_type": "code",
   "execution_count": 7,
   "id": "481a4bf5",
   "metadata": {},
   "outputs": [
    {
     "data": {
      "text/plain": [
       "Index(['_id', 'dataNotificacao', 'cnes', 'ocupacaoSuspeitoCli',\n",
       "       'ocupacaoSuspeitoUti', 'ocupacaoConfirmadoCli', 'ocupacaoConfirmadoUti',\n",
       "       'saidaSuspeitaObitos', 'saidaSuspeitaAltas', 'saidaConfirmadaObitos',\n",
       "       'saidaConfirmadaAltas', 'origem', '_p_usuario', 'estadoNotificacao',\n",
       "       'municipioNotificacao', 'estado', 'municipio', 'excluido', 'validado',\n",
       "       '_created_at', '_updated_at'],\n",
       "      dtype='object')"
      ]
     },
     "execution_count": 7,
     "metadata": {},
     "output_type": "execute_result"
    }
   ],
   "source": [
    "df.columns"
   ]
  },
  {
   "cell_type": "code",
   "execution_count": 8,
   "id": "00295bd5",
   "metadata": {},
   "outputs": [],
   "source": [
    "df['dataNotificacao'] = pd.to_datetime(df['dataNotificacao'], format=\"%Y-%m-%dT%H:%M:%S.%f\", errors='coerce')\n",
    "\n",
    "\n",
    "df['mes'] = pd.to_datetime(df['dataNotificacao']).dt.month \n"
   ]
  },
  {
   "cell_type": "code",
   "execution_count": 9,
   "id": "fa9d31dd",
   "metadata": {},
   "outputs": [],
   "source": [
    "leitos_final = df.groupby(['cnes','mes'])[['ocupacaoConfirmadoCli', 'ocupacaoConfirmadoUti','saidaConfirmadaObitos','saidaConfirmadaAltas']].sum()"
   ]
  },
  {
   "cell_type": "code",
   "execution_count": 10,
   "id": "29eb9391",
   "metadata": {},
   "outputs": [],
   "source": [
    "leitos_final.to_csv('leitos_final.csv',index=False,encoding='latin1')"
   ]
  }
 ],
 "metadata": {
  "kernelspec": {
   "display_name": "Python 3",
   "language": "python",
   "name": "python3"
  },
  "language_info": {
   "codemirror_mode": {
    "name": "ipython",
    "version": 3
   },
   "file_extension": ".py",
   "mimetype": "text/x-python",
   "name": "python",
   "nbconvert_exporter": "python",
   "pygments_lexer": "ipython3",
   "version": "3.9.9"
  }
 },
 "nbformat": 4,
 "nbformat_minor": 5
}
